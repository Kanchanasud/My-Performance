{
  "nbformat": 4,
  "nbformat_minor": 0,
  "metadata": {
    "colab": {
      "provenance": [],
      "toc_visible": true,
      "mount_file_id": "1Vu6n0dREmtt37FWEVKslpbu4xTnGCAxu",
      "authorship_tag": "ABX9TyMrULYIWUodDSIWEwCvS5gg",
      "include_colab_link": true
    },
    "kernelspec": {
      "name": "python3",
      "display_name": "Python 3"
    },
    "language_info": {
      "name": "python"
    }
  },
  "cells": [
    {
      "cell_type": "markdown",
      "metadata": {
        "id": "view-in-github",
        "colab_type": "text"
      },
      "source": [
        "<a href=\"https://colab.research.google.com/github/Kanchanasud/My-Performance/blob/main/Untitled11.ipynb\" target=\"_parent\"><img src=\"https://colab.research.google.com/assets/colab-badge.svg\" alt=\"Open In Colab\"/></a>"
      ]
    },
    {
      "cell_type": "code",
      "source": [
        "\n",
        "#นำเข้าเดต้าที่สร้างได้\n",
        "import pandas as pd\n",
        "from google.colab import drive\n",
        "drive.mount('/content/drive')"
      ],
      "metadata": {
        "colab": {
          "base_uri": "https://localhost:8080/"
        },
        "id": "Az9Pgu0Jyo92",
        "outputId": "98695ffd-b02c-4241-a89e-60ff8200a2b8"
      },
      "execution_count": 2,
      "outputs": [
        {
          "output_type": "stream",
          "name": "stdout",
          "text": [
            "Drive already mounted at /content/drive; to attempt to forcibly remount, call drive.mount(\"/content/drive\", force_remount=True).\n"
          ]
        }
      ]
    },
    {
      "cell_type": "code",
      "source": [
        "\n",
        "#เข้าไป path ใน google drive\n",
        "import os\n",
        "os.chdir('/content/drive/MyDrive/บรรยาย')\n",
        "\n",
        "!pwd #เช็ค paht ที่กำลังทำงานอยู่"
      ],
      "metadata": {
        "colab": {
          "base_uri": "https://localhost:8080/"
        },
        "id": "24xabsoOyuSd",
        "outputId": "4a152cbb-11b8-4dec-f3a2-5c6af2f53f11"
      },
      "execution_count": 4,
      "outputs": [
        {
          "output_type": "stream",
          "name": "stdout",
          "text": [
            "/content/drive/MyDrive/บรรยาย\n"
          ]
        }
      ]
    },
    {
      "cell_type": "code",
      "source": [
        "!ls"
      ],
      "metadata": {
        "colab": {
          "base_uri": "https://localhost:8080/"
        },
        "id": "ty-_urnlzBsY",
        "outputId": "19041a2c-b583-4928-dd1c-2f79114039bc"
      },
      "execution_count": 5,
      "outputs": [
        {
          "output_type": "stream",
          "name": "stdout",
          "text": [
            "likes.csv  users.csv  users-likes.csv\n"
          ]
        }
      ]
    },
    {
      "cell_type": "code",
      "source": [
        "\n",
        "# อ่านไฟล์ CSV เข้ามาใน DataFrame\n",
        "data_user = pd.read_csv('/content/drive/MyDrive/บรรยาย/users.csv')\n",
        "\n",
        "# แสดงผล DataFrame\n",
        "print(data_user.head())"
      ],
      "metadata": {
        "colab": {
          "base_uri": "https://localhost:8080/"
        },
        "id": "-0oGL7EAzEvU",
        "outputId": "a8cf6524-7af5-437e-97d9-0abab0db8a96"
      },
      "execution_count": 6,
      "outputs": [
        {
          "output_type": "stream",
          "name": "stdout",
          "text": [
            "                             userid  gender  age  political   ope   con   ext  \\\n",
            "0  54f34605aebd63f7680e37ffd299af79       0   33        0.0  1.26  1.65  1.17   \n",
            "1  86399f8c44ba54224b2e60177ca89fa9       1   35        0.0  1.07  0.17 -0.14   \n",
            "2  84fab50f3c60d1fdc83aa91b5e584a78       1   36        0.0  0.89  1.28  0.86   \n",
            "3  f3b8fdaccce12ef6352bfad4d6052fe9       0   39        NaN  0.33 -1.01 -0.33   \n",
            "4  8b06ea5e9cb87c61da387995450607f7       0   31        NaN  0.15  0.47  1.17   \n",
            "\n",
            "    agr   neu  \n",
            "0 -1.76  0.61  \n",
            "1  1.49  0.30  \n",
            "2  1.07  0.99  \n",
            "3 -0.68  0.92  \n",
            "4 -1.01 -0.32  \n"
          ]
        }
      ]
    },
    {
      "cell_type": "code",
      "source": [
        "data_user.head"
      ],
      "metadata": {
        "colab": {
          "base_uri": "https://localhost:8080/"
        },
        "id": "pIgxww0yzV2S",
        "outputId": "13096843-4b17-439a-fbab-6ef504b2d561"
      },
      "execution_count": 10,
      "outputs": [
        {
          "output_type": "execute_result",
          "data": {
            "text/plain": [
              "<bound method NDFrame.head of                                   userid  gender  age  political   ope   con  \\\n",
              "0       54f34605aebd63f7680e37ffd299af79       0   33        0.0  1.26  1.65   \n",
              "1       86399f8c44ba54224b2e60177ca89fa9       1   35        0.0  1.07  0.17   \n",
              "2       84fab50f3c60d1fdc83aa91b5e584a78       1   36        0.0  0.89  1.28   \n",
              "3       f3b8fdaccce12ef6352bfad4d6052fe9       0   39        NaN  0.33 -1.01   \n",
              "4       8b06ea5e9cb87c61da387995450607f7       0   31        NaN  0.15  0.47   \n",
              "...                                  ...     ...  ...        ...   ...   ...   \n",
              "110723  b66b3c8bbc513c44ed42510a2d2c89de       1   26        NaN  1.04  0.69   \n",
              "110724  92f3fb356a32c5313b19c586a314aec4       1   22        NaN -0.54 -1.38   \n",
              "110725  35423376439d56fd234c895495366421       0   33        NaN -0.72  0.84   \n",
              "110726  ea5865fed26ae706719b1ea338122fa8       1   22        NaN  1.16  0.32   \n",
              "110727  cb6f4e18ee08efd4d6627b047ab2c1cb       0   22        NaN -0.04  0.02   \n",
              "\n",
              "         ext   agr   neu  \n",
              "0       1.17 -1.76  0.61  \n",
              "1      -0.14  1.49  0.30  \n",
              "2       0.86  1.07  0.99  \n",
              "3      -0.33 -0.68  0.92  \n",
              "4       1.17 -1.01 -0.32  \n",
              "...      ...   ...   ...  \n",
              "110723  0.54 -1.51  0.56  \n",
              "110724 -0.58 -2.17  0.36  \n",
              "110725  1.48 -0.84  0.11  \n",
              "110726 -0.71  0.41  0.50  \n",
              "110727  0.48 -1.51  0.86  \n",
              "\n",
              "[110728 rows x 9 columns]>"
            ]
          },
          "metadata": {},
          "execution_count": 10
        }
      ]
    },
    {
      "cell_type": "markdown",
      "source": [
        "#ทดลองทำ  Linear Regression"
      ],
      "metadata": {
        "id": "hZrIJJGX03ZJ"
      }
    },
    {
      "cell_type": "code",
      "source": [
        "# กำหนดตัวแปร X และ y\n",
        "X = df[['political', 'age ']] # กำหนด Feature ที่ใช้ในการทำนาย\n",
        "y = df['Target'] # กำหนด Target ที่ต้องการทำนาย\n",
        "\n",
        "# สร้าง Linear Regression Model\n",
        "model = LinearRegression()\n",
        "\n",
        "# ฝึกโมเดลด้วยข้อมูล Train set\n",
        "model.fit('Feature1', y_train)\n",
        "\n",
        "# ทำนายผลด้วยข้อมูล Test set\n",
        "y_pred = model.predict(X_test)\n",
        "\n",
        "# คำนวณค่า R-Squared (Coefficient of determination)\n",
        "r_squared = model.score(X_test, y_test)\n",
        "\n",
        "# แสดงผลลัพธ์\n",
        "print(\"Coefficients:\", model.coef_) # แสดงค่า Coefficient ของแต่ละ Feature\n",
        "print(\"Intercept:\", model.intercept_) # แสดงค่า Intercept\n",
        "print(\"R-Squared:\", r_squared) # แสดงค่า R-Squared\n"
      ],
      "metadata": {
        "id": "iSvFGI6dzabu"
      },
      "execution_count": null,
      "outputs": []
    }
  ]
}